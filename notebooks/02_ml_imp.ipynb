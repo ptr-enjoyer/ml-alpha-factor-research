{
 "cells": [
  {
   "cell_type": "markdown",
   "id": "1f2e94f4",
   "metadata": {},
   "source": [
    "# Machine Learning On Features"
   ]
  },
  {
   "cell_type": "code",
   "execution_count": null,
   "id": "12037b2b",
   "metadata": {},
   "outputs": [
    {
     "name": "stdout",
     "output_type": "stream",
     "text": [
      "c:\\Users\\leona\\OneDrive\\Documents\\Alpha Factor Research\\ml-alpha-factor-research\\notebooks\n",
      "c:\\Users\\leona\\OneDrive\\Documents\\Alpha Factor Research\\ml-alpha-factor-research\n",
      "c:\\Users\\leona\\OneDrive\\Documents\\Alpha Factor Research\\ml-alpha-factor-research\\src\n"
     ]
    }
   ],
   "source": [
    "import numpy as np\n",
    "import pandas as pd\n",
    "import yfinance as yf\n",
    "import matplotlib.pyplot as plt\n",
    "import os\n",
    "\n",
    "print(os.getcwd())\n",
    "repo_root = os.path.dirname(os.getcwd())\n",
    "print(repo_root)\n",
    "src_path = os.path.join(repo_root, 'src')\n",
    "print(src_path)\n",
    "os.sys.path.append(src_path)\n",
    "if src_path not in os.sys.path:\n",
    "    os.sys.path.append(src_path)\n",
    "\n",
    "import features as ft"
   ]
  },
  {
   "cell_type": "markdown",
   "id": "95c316bf",
   "metadata": {},
   "source": [
    "Again we load the data for the GOOGL ticker"
   ]
  },
  {
   "cell_type": "code",
   "execution_count": 24,
   "id": "2e0ac6ca",
   "metadata": {},
   "outputs": [
    {
     "name": "stdout",
     "output_type": "stream",
     "text": [
      "2025-08-13 00:00:00 2010-08-13 00:00:00\n"
     ]
    },
    {
     "name": "stderr",
     "output_type": "stream",
     "text": [
      "C:\\Users\\leona\\AppData\\Local\\Temp\\ipykernel_13992\\3332442458.py:3: FutureWarning: YF.download() has changed argument auto_adjust default to True\n",
      "  stock_data = yf.download(ticker, start=start_date, end=end_date)\n",
      "[*********************100%***********************]  1 of 1 completed"
     ]
    },
    {
     "name": "stdout",
     "output_type": "stream",
     "text": [
      "Price           Close       High        Low       Open     Volume\n",
      "Ticker          GOOGL      GOOGL      GOOGL      GOOGL      GOOGL\n",
      "Date                                                             \n",
      "2010-08-13  12.098363  12.218761  12.089904  12.164283   77310612\n",
      "2010-08-16  12.079457  12.185926  11.952839  12.031944   52147800\n",
      "2010-08-17  12.202095  12.306076  12.090403  12.152592   75552372\n",
      "2010-08-18  11.993885  12.210802  11.978960  12.200106  107348544\n",
      "2010-08-19  11.641146  12.002840  11.623234  11.965526  156843000\n"
     ]
    },
    {
     "name": "stderr",
     "output_type": "stream",
     "text": [
      "\n"
     ]
    }
   ],
   "source": [
    "def fetch_stock_data(ticker, start_date, end_date):\n",
    "    # Fetch stock data\n",
    "    stock_data = yf.download(ticker, start=start_date, end=end_date)\n",
    "    return stock_data\n",
    "\n",
    "end_date = pd.Timestamp.today().normalize()\n",
    "start_date = end_date - pd.DateOffset(years=15)\n",
    "date_range = pd.date_range(start=start_date, end=end_date, freq='D')\n",
    "\n",
    "print(end_date, start_date)\n",
    "\n",
    "df_googl = fetch_stock_data('GOOGL', start_date, end_date)\n",
    "print(df_googl.head())"
   ]
  },
  {
   "cell_type": "code",
   "execution_count": 66,
   "id": "3a61b43c",
   "metadata": {},
   "outputs": [
    {
     "name": "stdout",
     "output_type": "stream",
     "text": [
      "               mom_5    mom_10    mom_15   volat_5  volat_10  volat_15  \\\n",
      "Date                                                                     \n",
      "2010-09-03  0.024998  0.017921 -0.033001  0.014886  0.015500  0.015933   \n",
      "2010-09-07  0.025868  0.000711 -0.043638  0.014630  0.016108  0.016157   \n",
      "2010-09-08  0.045687  0.042513 -0.040651  0.013460  0.013272  0.016357   \n",
      "2010-09-09  0.034432  0.047424 -0.012382  0.011363  0.013471  0.016242   \n",
      "2010-09-10  0.027980  0.055790  0.017458  0.011791  0.012858  0.014173   \n",
      "\n",
      "            ma_ratio_5  ma_ratio_10  ma_ratio_15  z_score_5  ...  \\\n",
      "Date                                                         ...   \n",
      "2010-09-03    1.023941     1.027661     1.012899   1.346076  ...   \n",
      "2010-09-07    1.005966     1.014696     1.003245   0.369902  ...   \n",
      "2010-09-08    1.010353     1.023906     1.019523   1.066069  ...   \n",
      "2010-09-09    1.015465     1.031253     1.032546   1.378241  ...   \n",
      "2010-09-10    1.009798     1.025578     1.031241   0.942435  ...   \n",
      "\n",
      "            vol_z_score_15      RSI_5     RSI_10     RSI_15  vol_spike_5  \\\n",
      "Date                                                                       \n",
      "2010-09-03        0.105030  69.714717  57.072101  41.345862     1.194796   \n",
      "2010-09-07       -0.957148  70.294552  50.264502  39.174433     0.769560   \n",
      "2010-09-08       -0.141745  81.767594  67.167587  39.941473     1.038428   \n",
      "2010-09-09       -0.083679  78.661810  68.503165  46.901898     1.128737   \n",
      "2010-09-10       -0.569248  76.086960  73.014991  54.968954     0.892783   \n",
      "\n",
      "            vol_spike_10  vol_spike_15  vol_mom_5  vol_mom_10  vol_mom_15  \n",
      "Date                                                                       \n",
      "2010-09-03      1.101576      1.035878   0.098599   -0.351542    0.313072  \n",
      "2010-09-07      0.784891      0.689641   0.388582   -0.427399    0.310268  \n",
      "2010-09-08      1.121063      0.955568   0.233717   -0.130633    0.270323  \n",
      "2010-09-09      1.143123      0.973632  -0.247096   -0.062305   -0.095220  \n",
      "2010-09-10      0.919986      0.834312   0.172248    0.111030   -0.496994  \n",
      "\n",
      "[5 rows x 24 columns]\n"
     ]
    }
   ],
   "source": [
    "df_features = pd.DataFrame(index=df_googl.index)\n",
    "close_price = df_googl['Close']\n",
    "volume = df_googl['Volume']\n",
    "\n",
    "df_features['mom_5'] = ft.momentum(close_price, 5)\n",
    "df_features['mom_10'] = ft.momentum(close_price, 10)\n",
    "df_features['mom_15'] = ft.momentum(close_price, 15)\n",
    "\n",
    "\n",
    "df_features['volat_5'] = ft.roll_volatility(close_price, 5)\n",
    "df_features['volat_10'] = ft.roll_volatility(close_price, 10)\n",
    "df_features['volat_15'] = ft.roll_volatility(close_price, 15)\n",
    "\n",
    "df_features['ma_ratio_5'] = ft.MA_ratio(close_price, 5)\n",
    "df_features['ma_ratio_10'] = ft.MA_ratio(close_price, 10)\n",
    "df_features['ma_ratio_15'] = ft.MA_ratio(close_price, 15)\n",
    "\n",
    "df_features['z_score_5'] = ft.z_score(close_price, 5)\n",
    "df_features['z_score_10'] = ft.z_score(close_price, 10)\n",
    "df_features['z_score_15'] = ft.z_score(close_price, 15)\n",
    "\n",
    "df_features['vol_z_score_5'] = ft.z_score(volume, 5)\n",
    "df_features['vol_z_score_10'] = ft.z_score(volume, 10)\n",
    "df_features['vol_z_score_15'] = ft.z_score(volume, 15)\n",
    "\n",
    "df_features['RSI_5'] = ft.RSI(close_price, 5)\n",
    "df_features['RSI_10'] = ft.RSI(close_price, 10)\n",
    "df_features['RSI_15'] = ft.RSI(close_price, 15)\n",
    "\n",
    "df_features['vol_spike_5'] = ft.vol_spike(volume, 5)\n",
    "df_features['vol_spike_10'] = ft.vol_spike(volume, 10)\n",
    "df_features['vol_spike_15'] = ft.vol_spike(volume, 15)\n",
    "\n",
    "df_features['vol_mom_5'] = ft.momentum(volume, 5)\n",
    "df_features['vol_mom_10'] = ft.momentum(volume, 10)\n",
    "df_features['vol_mom_15'] = ft.momentum(volume, 15)\n",
    "\n",
    "df_features.dropna(inplace=True)\n",
    "print(df_features.head())\n",
    "\n",
    "\n"
   ]
  },
  {
   "cell_type": "markdown",
   "id": "eed59cab",
   "metadata": {},
   "source": [
    "We now need to prepare our target data. We have a classification problem, so our data should be a binary dataset. We will set a forecasting horizon of $K$ days. A 1 will represent if $P_{t+K} > P_{t}$ and a 0 will represent $P_{t+K} \\le P_{t}$."
   ]
  },
  {
   "cell_type": "code",
   "execution_count": 67,
   "id": "0b06c3fa",
   "metadata": {},
   "outputs": [],
   "source": [
    "def make_classification_target(close: pd.Series, horizon: int) -> pd.DataFrame:\n",
    "    \"\"\"\n",
    "    Create forward return and binary classification target from a price series.\n",
    "\n",
    "    Parameters\n",
    "    ----------\n",
    "    close : pd.Series\n",
    "        Series of closing prices, indexed by date.\n",
    "    horizon : int, default 5\n",
    "        Forecast horizon in days (e.g., 1 = next day, 5 = next week).\n",
    "\n",
    "    Returns\n",
    "    -------\n",
    "    target_df : pd.DataFrame\n",
    "        DataFrame with:\n",
    "            'futret_<horizon>' : forward return over the horizon\n",
    "            'target'           : binary label (1 if up, 0 if down or flat)\n",
    "    \"\"\"\n",
    "    # Forward return\n",
    "    futret = close.shift(-horizon) / close - 1\n",
    "    futret_name = f\"futret_{horizon}\"\n",
    "\n",
    "    # Binary target: 1 if forward return > 0, else 0\n",
    "    target = (futret > 0).astype(int)\n",
    "\n",
    "    # Combine into DataFrame\n",
    "    target_df = pd.DataFrame({\n",
    "        futret_name: futret,\n",
    "        \"target\": target\n",
    "    }, index=close.index)\n",
    "\n",
    "    # Drop last horizon rows with NaNs in forward return\n",
    "    target_df = target_df.dropna(subset=[\"target\"])\n",
    "\n",
    "    return target_df\n"
   ]
  },
  {
   "cell_type": "code",
   "execution_count": 73,
   "id": "591e1d3f",
   "metadata": {},
   "outputs": [
    {
     "name": "stdout",
     "output_type": "stream",
     "text": [
      "               mom_5    mom_10    mom_15   volat_5  volat_10  volat_15  \\\n",
      "Date                                                                     \n",
      "2025-08-05 -0.005517  0.017404  0.069615  0.020946  0.015533  0.014087   \n",
      "2025-08-06 -0.002239  0.030805  0.071706  0.021191  0.015369  0.014103   \n",
      "2025-08-07  0.024075  0.022636  0.070487  0.016788  0.015168  0.014114   \n",
      "2025-08-08  0.064982  0.042655  0.088404  0.014546  0.016779  0.015048   \n",
      "2025-08-11  0.030558  0.043722  0.057338  0.011207  0.016732  0.013922   \n",
      "\n",
      "            ma_ratio_5  ma_ratio_10  ma_ratio_15  z_score_5  ...     RSI_10  \\\n",
      "Date                                                         ...              \n",
      "2025-08-05    1.006286     1.008037     1.019489   0.413646  ...  57.469734   \n",
      "2025-08-06    1.014087     1.012318     1.022243   0.962844  ...  62.964626   \n",
      "2025-08-07    1.011478     1.012264     1.019898   0.748074  ...  60.312976   \n",
      "2025-08-08    1.023746     1.033119     1.039444   1.718975  ...  66.493229   \n",
      "2025-08-11    1.015459     1.026532     1.033401   0.997985  ...  66.975822   \n",
      "\n",
      "               RSI_15  vol_spike_5  vol_spike_10  vol_spike_15  vol_mom_5  \\\n",
      "Date                                                                        \n",
      "2025-08-05  70.028477     0.869358      0.727100      0.759416  -0.236460   \n",
      "2025-08-06  70.448898     0.630959      0.542441      0.527926  -0.335410   \n",
      "2025-08-07  70.282159     0.902256      0.754302      0.650459  -0.487196   \n",
      "2025-08-08  73.159709     1.303688      1.124267      0.959621   0.124299   \n",
      "2025-08-11  67.752461     0.893971      0.768765      0.654345  -0.181156   \n",
      "\n",
      "            vol_mom_10  vol_mom_15  futret_1  target  \n",
      "Date                                                  \n",
      "2025-08-05   -0.292383   -0.055190  0.007294       1  \n",
      "2025-08-06   -0.632546   -0.348636  0.002193       1  \n",
      "2025-08-07   -0.648488   -0.177253  0.024934       1  \n",
      "2025-08-08   -0.015686    0.151327 -0.002085       0  \n",
      "2025-08-11   -0.322686   -0.436012  0.011642       1  \n",
      "\n",
      "[5 rows x 26 columns]\n",
      "               mom_5    mom_10    mom_15   volat_5  volat_10  volat_15  \\\n",
      "Date                                                                     \n",
      "2025-08-05 -0.005517  0.017404  0.069615  0.020946  0.015533  0.014087   \n",
      "2025-08-06 -0.002239  0.030805  0.071706  0.021191  0.015369  0.014103   \n",
      "2025-08-07  0.024075  0.022636  0.070487  0.016788  0.015168  0.014114   \n",
      "2025-08-08  0.064982  0.042655  0.088404  0.014546  0.016779  0.015048   \n",
      "2025-08-11  0.030558  0.043722  0.057338  0.011207  0.016732  0.013922   \n",
      "\n",
      "            ma_ratio_5  ma_ratio_10  ma_ratio_15  z_score_5  ...     RSI_10  \\\n",
      "Date                                                         ...              \n",
      "2025-08-05    1.006286     1.008037     1.019489   0.413646  ...  57.469734   \n",
      "2025-08-06    1.014087     1.012318     1.022243   0.962844  ...  62.964626   \n",
      "2025-08-07    1.011478     1.012264     1.019898   0.748074  ...  60.312976   \n",
      "2025-08-08    1.023746     1.033119     1.039444   1.718975  ...  66.493229   \n",
      "2025-08-11    1.015459     1.026532     1.033401   0.997985  ...  66.975822   \n",
      "\n",
      "               RSI_15  vol_spike_5  vol_spike_10  vol_spike_15  vol_mom_5  \\\n",
      "Date                                                                        \n",
      "2025-08-05  70.028477     0.869358      0.727100      0.759416  -0.236460   \n",
      "2025-08-06  70.448898     0.630959      0.542441      0.527926  -0.335410   \n",
      "2025-08-07  70.282159     0.902256      0.754302      0.650459  -0.487196   \n",
      "2025-08-08  73.159709     1.303688      1.124267      0.959621   0.124299   \n",
      "2025-08-11  67.752461     0.893971      0.768765      0.654345  -0.181156   \n",
      "\n",
      "            vol_mom_10  vol_mom_15  futret_1  target  \n",
      "Date                                                  \n",
      "2025-08-05   -0.292383   -0.055190  0.007294       1  \n",
      "2025-08-06   -0.632546   -0.348636  0.002193       1  \n",
      "2025-08-07   -0.648488   -0.177253  0.024934       1  \n",
      "2025-08-08   -0.015686    0.151327 -0.002085       0  \n",
      "2025-08-11   -0.322686   -0.436012  0.011642       1  \n",
      "\n",
      "[5 rows x 26 columns]\n",
      "               mom_5    mom_10    mom_15   volat_5  volat_10  volat_15  \\\n",
      "Date                                                                     \n",
      "2025-08-05 -0.005517  0.017404  0.069615  0.020946  0.015533  0.014087   \n",
      "2025-08-06 -0.002239  0.030805  0.071706  0.021191  0.015369  0.014103   \n",
      "2025-08-07  0.024075  0.022636  0.070487  0.016788  0.015168  0.014114   \n",
      "2025-08-08  0.064982  0.042655  0.088404  0.014546  0.016779  0.015048   \n",
      "2025-08-11  0.030558  0.043722  0.057338  0.011207  0.016732  0.013922   \n",
      "\n",
      "            ma_ratio_5  ma_ratio_10  ma_ratio_15  z_score_5  ...     RSI_10  \\\n",
      "Date                                                         ...              \n",
      "2025-08-05    1.006286     1.008037     1.019489   0.413646  ...  57.469734   \n",
      "2025-08-06    1.014087     1.012318     1.022243   0.962844  ...  62.964626   \n",
      "2025-08-07    1.011478     1.012264     1.019898   0.748074  ...  60.312976   \n",
      "2025-08-08    1.023746     1.033119     1.039444   1.718975  ...  66.493229   \n",
      "2025-08-11    1.015459     1.026532     1.033401   0.997985  ...  66.975822   \n",
      "\n",
      "               RSI_15  vol_spike_5  vol_spike_10  vol_spike_15  vol_mom_5  \\\n",
      "Date                                                                        \n",
      "2025-08-05  70.028477     0.869358      0.727100      0.759416  -0.236460   \n",
      "2025-08-06  70.448898     0.630959      0.542441      0.527926  -0.335410   \n",
      "2025-08-07  70.282159     0.902256      0.754302      0.650459  -0.487196   \n",
      "2025-08-08  73.159709     1.303688      1.124267      0.959621   0.124299   \n",
      "2025-08-11  67.752461     0.893971      0.768765      0.654345  -0.181156   \n",
      "\n",
      "            vol_mom_10  vol_mom_15  futret_1  target  \n",
      "Date                                                  \n",
      "2025-08-05   -0.292383   -0.055190  0.007294       1  \n",
      "2025-08-06   -0.632546   -0.348636  0.002193       1  \n",
      "2025-08-07   -0.648488   -0.177253  0.024934       1  \n",
      "2025-08-08   -0.015686    0.151327 -0.002085       0  \n",
      "2025-08-11   -0.322686   -0.436012  0.011642       1  \n",
      "\n",
      "[5 rows x 26 columns]\n"
     ]
    }
   ],
   "source": [
    "ser_close = close_price['GOOGL']\n",
    "df_ret = make_classification_target(ser_close, horizon=1)\n",
    "ret_adj = df_ret[15:]\n",
    "print(df_features.tail())\n",
    "print(df_features.tail())\n",
    "\n",
    "df_features.dropna(inplace=True)\n",
    "print(df_features.tail())\n",
    "df_features.drop(columns=['futret_1'], inplace=True)\n"
   ]
  }
 ],
 "metadata": {
  "kernelspec": {
   "display_name": "venv",
   "language": "python",
   "name": "python3"
  },
  "language_info": {
   "codemirror_mode": {
    "name": "ipython",
    "version": 3
   },
   "file_extension": ".py",
   "mimetype": "text/x-python",
   "name": "python",
   "nbconvert_exporter": "python",
   "pygments_lexer": "ipython3",
   "version": "3.9.6"
  }
 },
 "nbformat": 4,
 "nbformat_minor": 5
}
